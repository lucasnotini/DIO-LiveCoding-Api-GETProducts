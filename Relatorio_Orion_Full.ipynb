{
  "nbformat": 4,
  "nbformat_minor": 0,
  "metadata": {
    "colab": {
      "provenance": [],
      "authorship_tag": "ABX9TyMbzBklWS86k67Emtm8k/f8",
      "include_colab_link": true
    },
    "kernelspec": {
      "name": "python3",
      "display_name": "Python 3"
    },
    "language_info": {
      "name": "python"
    }
  },
  "cells": [
    {
      "cell_type": "markdown",
      "metadata": {
        "id": "view-in-github",
        "colab_type": "text"
      },
      "source": [
        "<a href=\"https://colab.research.google.com/github/lucasnotini/DIO-LiveCoding-Api-GETProducts/blob/master/Relatorio_Orion_Full.ipynb\" target=\"_parent\"><img src=\"https://colab.research.google.com/assets/colab-badge.svg\" alt=\"Open In Colab\"/></a>"
      ]
    },
    {
      "cell_type": "code",
      "execution_count": 108,
      "metadata": {
        "id": "ghslDAP3n1LD"
      },
      "outputs": [],
      "source": [
        "import pandas as pd"
      ]
    },
    {
      "cell_type": "code",
      "source": [
        "df = pd.read_excel('/TRADES ORION FULL - 2 ANOS - TRATADO.xlsx')"
      ],
      "metadata": {
        "id": "KvmGGkxIoc3c"
      },
      "execution_count": 109,
      "outputs": []
    },
    {
      "cell_type": "code",
      "source": [
        "# Converta a coluna 'Data' para o tipo datetime\n",
        "df['Data'] = pd.to_datetime(df['Data'], format='%d/%m/%Y')"
      ],
      "metadata": {
        "id": "z4FicemnoklO"
      },
      "execution_count": 110,
      "outputs": []
    },
    {
      "cell_type": "code",
      "source": [
        "#Calcula metricas por trade\n",
        "total_trades = len(df)\n",
        "trades_positivos = len(df[df['Resultado'] > 0])\n",
        "percentual_trades_positivos = (trades_positivos / total_trades) * 100\n",
        "maior_trade = df.Resultado.max()\n",
        "menor_trade = df.Resultado.min()\n",
        "\n",
        "print(f'Total de trades: {total_trades}')\n",
        "print(f'Trades positivos: {trades_positivos}')\n",
        "print(f'Percentual de trades positivos: {percentual_trades_positivos:.2f}%')\n",
        "print(f'Maior trade: R${maior_trade:.2f}')\n",
        "print(f'Menor trade: R${menor_trade:.2f}')"
      ],
      "metadata": {
        "colab": {
          "base_uri": "https://localhost:8080/"
        },
        "id": "YUNIgsBLtAte",
        "outputId": "df6e6a35-f5b3-47c2-a4dc-30771d4fff68"
      },
      "execution_count": 111,
      "outputs": [
        {
          "output_type": "stream",
          "name": "stdout",
          "text": [
            "Total de trades: 979\n",
            "Trades positivos: 523\n",
            "Percentual de trades positivos: 53.42%\n",
            "Maior trade: R$595.00\n",
            "Menor trade: R$-250.00\n"
          ]
        }
      ]
    },
    {
      "cell_type": "code",
      "source": [
        "# Agrupe os dados por dia e some os valores\n",
        "df_diario = df.groupby('Data', as_index=False).sum()"
      ],
      "metadata": {
        "id": "MzL2vuess_ku"
      },
      "execution_count": 112,
      "outputs": []
    },
    {
      "cell_type": "code",
      "source": [
        "#Calcula metricas diarias\n",
        "total_dias = len(df_diario)\n",
        "dias_positivos = len(df_diario[df_diario['Resultado'] > 0])\n",
        "percentual_dias_positivos = (dias_positivos / total_dias) * 100\n",
        "maior_dia = df_diario.Resultado.max()\n",
        "menor_dia = df_diario.Resultado.min()\n",
        "\n",
        "print(f'Total de dias: {total_dias}')\n",
        "print(f'Dias positivos: {dias_positivos}')\n",
        "print(f'Percentual de dias positivos: {percentual_dias_positivos:.2f}%')\n",
        "print(f'Maior dia: R${maior_dia:.2f}')\n",
        "print(f'Menor dia: R${menor_dia:.2f}')"
      ],
      "metadata": {
        "colab": {
          "base_uri": "https://localhost:8080/"
        },
        "id": "SxqorOQ7onHP",
        "outputId": "c0cabdc5-54ed-4f4e-dcdd-0a24be6f6b87"
      },
      "execution_count": 114,
      "outputs": [
        {
          "output_type": "stream",
          "name": "stdout",
          "text": [
            "Total de dias: 444\n",
            "Dias positivos: 231\n",
            "Percentual de dias positivos: 52.03%\n",
            "Maior dia: R$1107.00\n",
            "Menor dia: R$-371.00\n"
          ]
        }
      ]
    },
    {
      "cell_type": "code",
      "source": [
        "# Agrupe os dados por semana e some os valores\n",
        "df_semanal = df.groupby(pd.Grouper(key='Data', freq='W')).sum()"
      ],
      "metadata": {
        "id": "nJKIiVpqpWP7"
      },
      "execution_count": 115,
      "outputs": []
    },
    {
      "cell_type": "code",
      "source": [
        "#Calcula metricas por semana\n",
        "total_semanas = len(df_semanal)\n",
        "semanas_positivas = len(df_semanal[df_semanal['Resultado'] > 0])\n",
        "percentual_semanas_positivas = (semanas_positivas / total_semanas) * 100\n",
        "maior_semana = df_semanal.Resultado.max()\n",
        "menor_semana = df_semanal.Resultado.min()\n",
        "\n",
        "print(f'Total de semanas: {total_semanas}')\n",
        "print(f'Semanas positivas: {semanas_positivas}')\n",
        "print(f'Percentual de semanas positivas: {percentual_semanas_positivas:.2f}%')\n",
        "print(f'Maior semana: R${maior_semana:.2f}')\n",
        "print(f'Menor semana: R${menor_semana:.2f}')"
      ],
      "metadata": {
        "colab": {
          "base_uri": "https://localhost:8080/"
        },
        "id": "VdwbuoeQtmL1",
        "outputId": "a4db5e0c-b796-48f2-d5b5-be9130dada86"
      },
      "execution_count": 116,
      "outputs": [
        {
          "output_type": "stream",
          "name": "stdout",
          "text": [
            "Total de semanas: 105\n",
            "Semanas positivas: 68\n",
            "Percentual de semanas positivas: 64.76%\n",
            "Maior semana: R$1669.00\n",
            "Menor semana: R$-663.00\n"
          ]
        }
      ]
    },
    {
      "cell_type": "code",
      "source": [
        "# Agrupe os dados por mês e some os valores\n",
        "df_mensal = df.groupby(pd.Grouper(key='Data', freq='M')).sum()"
      ],
      "metadata": {
        "id": "KiRrvwTiuDv5"
      },
      "execution_count": 117,
      "outputs": []
    },
    {
      "cell_type": "code",
      "source": [
        "#Calcula metricas por mês\n",
        "total_meses = len(df_mensal)\n",
        "meses_positivos = len(df_mensal[df_mensal['Resultado'] > 0])\n",
        "percentual_meses_positivos = (meses_positivos / total_meses) * 100\n",
        "maior_mes = df_mensal.Resultado.max()\n",
        "menor_mes = df_mensal.Resultado.min()\n",
        "\n",
        "print(f'Total de meses: {total_meses}')\n",
        "print(f'Meses positivos: {meses_positivos}')\n",
        "print(f'Percentual de meses positivos: {percentual_meses_positivos:.2f}%')\n",
        "print(f'Maior mês: R${maior_mes:.2f}')\n",
        "print(f'Menor mês: R${menor_mes:.2f}')\n"
      ],
      "metadata": {
        "colab": {
          "base_uri": "https://localhost:8080/"
        },
        "id": "epgu8OyZuSG4",
        "outputId": "bec65a4a-2b0b-4c65-f077-8ce64cdef346"
      },
      "execution_count": 118,
      "outputs": [
        {
          "output_type": "stream",
          "name": "stdout",
          "text": [
            "Total de meses: 25\n",
            "Meses positivos: 21\n",
            "Percentual de meses positivos: 84.00%\n",
            "Maior mês: R$2314.00\n",
            "Menor mês: R$-615.50\n"
          ]
        }
      ]
    },
    {
      "cell_type": "code",
      "source": [],
      "metadata": {
        "id": "BkQUdm68uSxo"
      },
      "execution_count": 118,
      "outputs": []
    }
  ]
}